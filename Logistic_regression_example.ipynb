{
 "cells": [
  {
   "cell_type": "markdown",
   "metadata": {},
   "source": [
    "Logistic Regression"
   ]
  },
  {
   "cell_type": "code",
   "execution_count": 17,
   "metadata": {},
   "outputs": [],
   "source": [
    "# import packages\n",
    "\n",
    "import numpy as np  \n",
    "import pandas as pd  \n",
    "import matplotlib.pyplot as plt  \n",
    "%matplotlib inline"
   ]
  },
  {
   "cell_type": "markdown",
   "metadata": {},
   "source": [
    "Suppose that you are Stefano Panzeri and you want to classify if a candidate postdoc is worth hiring (i.e. classifying candidates you've never seen before into admitted/rejected) based on his/her results on two exams. You have historical data from previous candidates that you can use as a training set. For each training example, you have the applicant's scores on two exams and the admissions decision."
   ]
  },
  {
   "cell_type": "markdown",
   "metadata": {},
   "source": [
    "Recall from Bishop chapter 4 (see slides): \n",
    "\n",
    "**Linear Regression**: prediction of a continuous variable $t$ as $ t(\\textbf{x}) = \\textbf{w}^T * \\pmb{\\phi}(\\textbf{x})$\n",
    "\n",
    "**Logistic regression**: prediction of a discrete variable $t$ (here, binary). You start with a model for a continuous variable $h$ between 0-1, as $h(\\textbf{x}) = \\sigma(\\textbf{w}^T * \\pmb{\\phi}(\\textbf{x}))$, which is just a GLM $h(\\textbf{x}) = f(\\textbf{w}^T * \\pmb{\\phi}(\\textbf{x}))$ with $f=\\sigma$ being the logistic activation function (this defines the name logistic) and the function $\\pmb{\\phi}(\\textbf{x})$, called the basis function, could be a nonlinear transformation of $x$ or just the identity function, $\\pmb{\\phi}(\\textbf{x})=x$, if one looks for a discrimination boundary that is linear in $\\textbf{x}$. \n",
    "\n",
    "$\\sigma$ converts a continuous input into a value between zero and one, as the figure below shows."
   ]
  },
  {
   "cell_type": "code",
   "execution_count": 18,
   "metadata": {},
   "outputs": [],
   "source": [
    "def sigmoid(z):  \n",
    "    return 1 / (1 + np.exp(-z))"
   ]
  },
  {
   "cell_type": "code",
   "execution_count": 19,
   "metadata": {},
   "outputs": [
    {
     "data": {
      "text/plain": [
       "[<matplotlib.lines.Line2D at 0x7fd0513fc4e0>]"
      ]
     },
     "execution_count": 19,
     "metadata": {},
     "output_type": "execute_result"
    },
    {
     "data": {
      "image/png": "[encoded data removed]",
      "text/plain": [
       "<matplotlib.figure.Figure at 0x7fd0513fc4a8>"
      ]
     },
     "metadata": {},
     "output_type": "display_data"
    }
   ],
   "source": [
    "nums = np.arange(-10, 10, step=1)\n",
    "\n",
    "fig, ax = plt.subplots(figsize=(12,8))  \n",
    "ax.plot(nums, sigmoid(nums), 'r')  "
   ]
  },
  {
   "cell_type": "markdown",
   "metadata": {},
   "source": [
    "Thus, the value of $h$ can be interpreted as the probability of one of the classes of $t$, $P(C_1 | x)$ in Bishop's notation. Actually, the logistic regression framework can be obtained by just applying Bayes to get a expression of $P(C_1 | x)$:\n",
    "\n",
    "$$P(C_1 | x)=\\frac{P(x|C_1)P(C_1)}{P(x|C_1)P(C_1)+P(x|C_2)P(C_2)} = \\frac{1}{1+\\exp(-a)} = \\sigma(a) $$\n",
    "\n",
    "Where\n",
    "\n",
    "$$a=\\ln\\frac{P(x|C_1)P(C_1)}{P(x|C_2)P(C_2)}$$\n",
    "\n",
    "\n",
    "Using this probability along with a threshold value, we can obtain a discrete (here, binary) label prediction for the target variable $t$. "
   ]
  },
  {
   "cell_type": "markdown",
   "metadata": {},
   "source": [
    "**Now we get data for exercise**: the dependent variable $t$ is Admitted or not, the two independent variables are the scores for Exam 1 and Exam 2. Note that we assume that the two scores are independent from each other."
   ]
  },
  {
   "cell_type": "code",
   "execution_count": 20,
   "metadata": {},
   "outputs": [
    {
     "data": {
      "text/html": [
       "<div>\n",
       "<style scoped>\n",
       "    .dataframe tbody tr th:only-of-type {\n",
       "        vertical-align: middle;\n",
       "    }\n",
       "\n",
       "    .dataframe tbody tr th {\n",
       "        vertical-align: top;\n",
       "    }\n",
       "\n",
       "    .dataframe thead th {\n",
       "        text-align: right;\n",
       "    }\n",
       "</style>\n",
       "<table border=\"1\" class=\"dataframe\">\n",
       "  <thead>\n",
       "    <tr style=\"text-align: right;\">\n",
       "      <th></th>\n",
       "      <th>Exam 1</th>\n",
       "      <th>Exam 2</th>\n",
       "      <th>Admitted</th>\n",
       "    </tr>\n",
       "  </thead>\n",
       "  <tbody>\n",
       "    <tr>\n",
       "      <th>0</th>\n",
       "      <td>34.623660</td>\n",
       "      <td>78.024693</td>\n",
       "      <td>0</td>\n",
       "    </tr>\n",
       "    <tr>\n",
       "      <th>1</th>\n",
       "      <td>30.286711</td>\n",
       "      <td>43.894998</td>\n",
       "      <td>0</td>\n",
       "    </tr>\n",
       "    <tr>\n",
       "      <th>2</th>\n",
       "      <td>35.847409</td>\n",
       "      <td>72.902198</td>\n",
       "      <td>0</td>\n",
       "    </tr>\n",
       "    <tr>\n",
       "      <th>3</th>\n",
       "      <td>60.182599</td>\n",
       "      <td>86.308552</td>\n",
       "      <td>1</td>\n",
       "    </tr>\n",
       "    <tr>\n",
       "      <th>4</th>\n",
       "      <td>79.032736</td>\n",
       "      <td>75.344376</td>\n",
       "      <td>1</td>\n",
       "    </tr>\n",
       "  </tbody>\n",
       "</table>\n",
       "</div>"
      ],
      "text/plain": [
       "      Exam 1     Exam 2  Admitted\n",
       "0  34.623660  78.024693         0\n",
       "1  30.286711  43.894998         0\n",
       "2  35.847409  72.902198         0\n",
       "3  60.182599  86.308552         1\n",
       "4  79.032736  75.344376         1"
      ]
     },
     "execution_count": 20,
     "metadata": {},
     "output_type": "execute_result"
    }
   ],
   "source": [
    "import os  \n",
    "path = os.getcwd() + '/data/dataLogisticRegressionEx.txt'  \n",
    "data = pd.read_csv(path, header=None, names=['Exam 1', 'Exam 2', 'Admitted'])  \n",
    "data.head()  "
   ]
  },
  {
   "cell_type": "markdown",
   "metadata": {},
   "source": [
    "Visualize how t covaries with independent variables"
   ]
  },
  {
   "cell_type": "code",
   "execution_count": 21,
   "metadata": {},
   "outputs": [
    {
     "data": {
      "text/plain": [
       "<matplotlib.text.Text at 0x7fd051214668>"
      ]
     },
     "execution_count": 21,
     "metadata": {},
     "output_type": "execute_result"
    },
    {
     "data": {
      "image/png": "[encoded data removed]",
      "text/plain": [
       "<matplotlib.figure.Figure at 0x7fd05145e208>"
      ]
     },
     "metadata": {},
     "output_type": "display_data"
    }
   ],
   "source": [
    "positive = data[data['Admitted'].isin([1])]  \n",
    "negative = data[data['Admitted'].isin([0])]\n",
    "\n",
    "fig, ax = plt.subplots(figsize=(12,8))  \n",
    "ax.scatter(positive['Exam 1'], positive['Exam 2'], s=50, c='b', marker='o', label='Admitted')  \n",
    "ax.scatter(negative['Exam 1'], negative['Exam 2'], s=50, c='r', marker='x', label='Not Admitted')  \n",
    "ax.legend()  \n",
    "ax.set_xlabel('Exam 1 Score')  \n",
    "ax.set_ylabel('Exam 2 Score')  "
   ]
  },
  {
   "cell_type": "markdown",
   "metadata": {},
   "source": [
    "From this plot we can see that **there’s a nearly linear decision boundary**. It curves a bit so we can’t classify all of the examples correctly using a straight line, but we should be able to get pretty close.\n",
    "\n",
    "Now we need to **implement logistic regression** so we can train a model to find the optimal decision boundary and make class predictions. \n",
    "\n",
    "The logistic regression hypothesis is\n",
    "\n",
    "$$ h_w(\\textbf{x}) = \\sigma(\\textbf{w}^T*\\textbf{x})$$\n",
    "\n",
    "where we have made explicit the dependence of the model on $w$, the set of parameters that has to be optimized to fit the training set."
   ]
  },
  {
   "cell_type": "markdown",
   "metadata": {},
   "source": [
    "Our next step is to write a **cost function** that evaluates the performance of the model on the training data $\\{t^{(i)}\\}_{\\{i=1,...,N\\}}$ ($N$ observations) given a set of model parameters. Here, define an error function by taking the negative logarithm of the likelihood, which gives the cross-entropy error function in the form (eq. 4.90 in Bishop's book):\n",
    "\n",
    "$$E(w) = \\ln P(\\textbf{t}|w) = -\\sum_{i=1}^N [t^{(i)} \\ln(\\sigma(a^{(i)})) + (1 - t^{(i)}) \\ln(1 -\\sigma(a^{(i)}))]$$\n",
    "\n",
    "Where $a^{(i)}=\\textbf{w}^T\\pmb{\\phi}(\\textbf{x})$"
   ]
  },
  {
   "cell_type": "code",
   "execution_count": 22,
   "metadata": {},
   "outputs": [],
   "source": [
    "def cost(w, X, t):  \n",
    "    w = np.matrix(w)\n",
    "    X = np.matrix(X)\n",
    "    t = np.matrix(t)\n",
    "    first = np.multiply(-t, np.log(sigmoid(X * w.T)))\n",
    "    second = np.multiply((1 - t), np.log(1 - sigmoid(X * w.T)))\n",
    "    return np.sum(first - second) "
   ]
  },
  {
   "cell_type": "markdown",
   "metadata": {},
   "source": [
    "Note that $J(w)$, i.e. the output of $cost$, is a single scalar value, which is the sum over training samples of the “error” quantified as a function of the difference between the class probability assigned by the model $h_w(x^{(i)})$ and the true label of the example $t^{(i)}$."
   ]
  },
  {
   "cell_type": "markdown",
   "metadata": {},
   "source": [
    "Now, some technical setup for calling the functions right"
   ]
  },
  {
   "cell_type": "code",
   "execution_count": 23,
   "metadata": {},
   "outputs": [
    {
     "data": {
      "text/plain": [
       "((100, 3), (3,), (100, 1))"
      ]
     },
     "execution_count": 23,
     "metadata": {},
     "output_type": "execute_result"
    }
   ],
   "source": [
    "# add a ones column - this makes the matrix multiplication work out easier\n",
    "data.insert(0, 'Ones', 1)\n",
    "\n",
    "# set X (training data) and t (target variable)\n",
    "cols = data.shape[1]  \n",
    "X = data.iloc[:,0:cols-1]  \n",
    "t = data.iloc[:,cols-1:cols]\n",
    "\n",
    "# convert to numpy arrays and initalize the parameter array w\n",
    "X = np.array(X.values)  \n",
    "t = np.array(t.values)  \n",
    "w = np.zeros(3)  \n",
    "\n",
    "# check that matrices above have the right shape\n",
    "X.shape, w.shape, t.shape "
   ]
  },
  {
   "cell_type": "markdown",
   "metadata": {},
   "source": [
    "In the code above, w was initialized as a vector w^0 = (0, 0, 0). Let's compute J(w^0)"
   ]
  },
  {
   "cell_type": "code",
   "execution_count": 24,
   "metadata": {},
   "outputs": [
    {
     "data": {
      "text/plain": [
       "69.314718055994533"
      ]
     },
     "execution_count": 24,
     "metadata": {},
     "output_type": "execute_result"
    }
   ],
   "source": [
    "cost(w, X, t)"
   ]
  },
  {
   "cell_type": "markdown",
   "metadata": {},
   "source": [
    "Now we write a function that computes **the gradient** $\\frac{\\partial E(w)}{\\partial w_k}$ ($k$ is the number of dimensions of the vector $w$) to figure out how to change $w$ to minimize the error $E(w)$ on the training data. The implementation is an iterative gradient descent algorithm that, at each training iteration, updates $w$ in a way that’s guaranteed to move it in a direction that reduces $E(w)$ (the training error or the cost as defined above). This is easily done here, because the cost function is differentiable:\n",
    "\n",
    "$$ \\frac{\\partial E(w)}{\\partial w_k} = \\sum_{i=1}^N (h_w(\\sigma(a^{(i)}) - t^{(i)})\\pmb{\\phi}(\\textbf{x}^{(i)}) $$\n",
    "\n",
    "Where, again Where $a^{(i)}=\\textbf{w}^T\\pmb{\\phi}(\\textbf{x}^{(i)})$.\n",
    "\n",
    "Let's implement this function:"
   ]
  },
  {
   "cell_type": "code",
   "execution_count": 25,
   "metadata": {},
   "outputs": [],
   "source": [
    "def gradient(w, X, t):  \n",
    "    w = np.matrix(w)\n",
    "    X = np.matrix(X)\n",
    "    t = np.matrix(t)\n",
    "\n",
    "    parameters = int(w.ravel().shape[1])\n",
    "    grad = np.zeros(parameters)\n",
    "\n",
    "    error = sigmoid(X * w.T) - t\n",
    "\n",
    "    for i in range(parameters):\n",
    "        term = np.multiply(error, X[:,i])\n",
    "        grad[i] = np.sum(term) \n",
    "\n",
    "    return grad"
   ]
  },
  {
   "cell_type": "markdown",
   "metadata": {},
   "source": [
    "Now we perform **gradient descent**, and thus minimize the error (cost) function $E(w)$, with the following implementation."
   ]
  },
  {
   "cell_type": "code",
   "execution_count": 28,
   "metadata": {},
   "outputs": [
    {
     "data": {
      "text/plain": [
       "20.349770158947457"
      ]
     },
     "execution_count": 28,
     "metadata": {},
     "output_type": "execute_result"
    }
   ],
   "source": [
    "import scipy.optimize as opt  \n",
    "result = opt.fmin_tnc(func=cost, x0=w, fprime=gradient, args=(X, t))  \n",
    "cost(result[0], X, t)  "
   ]
  },
  {
   "cell_type": "markdown",
   "metadata": {},
   "source": [
    "**We now have the optimal model parameters $\\bar{w}$ for our dataset**. Hence, we can write a function that will output predictions for the training dataset $\\{t^{(i)}\\}_{\\{i=1,...,N\\}}$ using our learned parameters $\\bar{w}$, and use this function to score the training accuracy of our classifier."
   ]
  },
  {
   "cell_type": "code",
   "execution_count": 29,
   "metadata": {},
   "outputs": [],
   "source": [
    "def predict(w, X):  \n",
    "    probability = sigmoid(X * w.T)\n",
    "    return [1 if x >= 0.5 else 0 for x in probability]\n",
    "\n",
    "w_min = np.matrix(result[0])  \n",
    "predictions = predict(w_min, X)  \n",
    "correct = [1 if ((a == 1 and b == 1) or (a == 0 and b == 0)) else 0 for (a, b) in zip(predictions, t)] "
   ]
  },
  {
   "cell_type": "markdown",
   "metadata": {},
   "source": [
    "Print outcome accuracy in two different ways (kudos to Yann Zerlaut for pointing out that dictionaries, \"as results below\", should always be used in python - similar to structures in matlab)."
   ]
  },
  {
   "cell_type": "code",
   "execution_count": 32,
   "metadata": {},
   "outputs": [
    {
     "name": "stdout",
     "output_type": "stream",
     "text": [
      "accuracy = 89.0 %\n",
      "{'accuracy': array(89.0)}\n"
     ]
    }
   ],
   "source": [
    "results = {}\n",
    "results['accuracy'] = (sum(map(int, correct)) / len(correct))*100\n",
    "print(\"accuracy = %(accuracy).1f %%\" % results) \n",
    "np.savez('results.npz', **results)\n",
    "results = dict(np.load('results.npz'))\n",
    "print(results)"
   ]
  },
  {
   "cell_type": "markdown",
   "metadata": {},
   "source": [
    "However you print it, the accuracy on the training set turns out to be $89 \\%$. Keep in mind that this is training set accuracy though. We didn't keep a hold-out set or use cross-validation to get a true approximation of the accuracy so this number is likely higher than its true performance.\n",
    "\n",
    "Finally, let's plot the decision boundary (see https://stackoverflow.com/questions/42704698/logistic-regression-plotting-decision-boundary-from-theta) \n",
    "(to do: plot of posterior probabilities from https://stackoverflow.com/questions/28256058/plotting-decision-boundary-of-logistic-regression)."
   ]
  },
  {
   "cell_type": "code",
   "execution_count": null,
   "metadata": {},
   "outputs": [],
   "source": [
    "def posterior(w, X):  \n",
    "    probability = sigmoid(X * w.T)\n",
    "    return probability\n",
    "\n",
    "w_min = np.matrix(result[0])  \n",
    "posteriors = posterior(w_min, X)  \n",
    "posteriors.shape, X.shape"
   ]
  },
  {
   "cell_type": "code",
   "execution_count": null,
   "metadata": {},
   "outputs": [],
   "source": [
    "xx = np.mgrid[0:100:1]\n",
    "\n",
    "f, ax = plt.subplots(figsize=(8, 6))\n",
    "y_class=[1 if x >= 0.5 else 0 for x in y];\n",
    "\n",
    "ax.scatter(X[:,1], X[:, 2], c=y_class, s=50,\n",
    "           cmap=\"RdBu\", vmin=-.2, vmax=1.2,\n",
    "           edgecolor=\"white\", linewidth=1)\n",
    "decision_boundary = -(np.array(w_min)[:, 1]*np.array(xx)  + np.array(w_min)[:, 0])/np.array(w_min)[:, 2]; \n",
    "ax.plot(xx, decision_boundary, 'r--', label='Decision boundary')\n",
    "ax.set(aspect=\"equal\",\n",
    "       #xlim=(0, 100), ylim=(0, 100),\n",
    "       xlabel=\"$Exam 1$\", ylabel=\"$Exam 2$\")"
   ]
  },
  {
   "cell_type": "markdown",
   "metadata": {},
   "source": [
    "Materials and links\n",
    "\n",
    "http://www.johnwittenauer.net/machine-learning-exercises-in-python-part-3/\n",
    "\n",
    "https://github.com/jdwittenauer/ipython-notebooks/blob/master/exercises/ML/ex2.pdf\n",
    "\n",
    "https://stackoverflow.com/questions/28256058/plotting-decision-boundary-of-logistic-regression\n",
    "\n",
    "http://www.win-vector.com/blog/2011/09/the-simpler-derivation-of-logistic-regression/"
   ]
  }
 ],
 "metadata": {
  "kernelspec": {
   "display_name": "Python 3",
   "language": "python",
   "name": "python3"
  },
  "language_info": {
   "codemirror_mode": {
    "name": "ipython",
    "version": 3
   },
   "file_extension": ".py",
   "mimetype": "text/x-python",
   "name": "python",
   "nbconvert_exporter": "python",
   "pygments_lexer": "ipython3",
   "version": "3.5.2"
  }
 },
 "nbformat": 4,
 "nbformat_minor": 2
}
